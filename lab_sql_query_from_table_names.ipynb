{
  "cells": [
    {
      "cell_type": "markdown",
      "id": "00a57394-53dd-47cd-a5e7-6e7122bbb0f6",
      "metadata": {
        "id": "00a57394-53dd-47cd-a5e7-6e7122bbb0f6"
      },
      "source": [
        "# SQL query from table names"
      ]
    },
    {
      "cell_type": "markdown",
      "id": "86bc2813-763c-49f2-9f5d-e1f87a20556f",
      "metadata": {
        "id": "86bc2813-763c-49f2-9f5d-e1f87a20556f"
      },
      "source": [
        "In This notebook we are going to test if using just the name of the table, and a shord definition of its contect we can use a model like GTP3.5-Turbo to select which tables are necessary to create a SQL Order to answer the user petition."
      ]
    },
    {
      "cell_type": "code",
      "source": [
        "!pip install python-dotenv\n"
      ],
      "metadata": {
        "colab": {
          "base_uri": "https://localhost:8080/"
        },
        "id": "VjPzKH7r0Z4l",
        "outputId": "caafaf21-ceb2-461d-9358-a3ed02463595"
      },
      "id": "VjPzKH7r0Z4l",
      "execution_count": 1,
      "outputs": [
        {
          "output_type": "stream",
          "name": "stdout",
          "text": [
            "Collecting python-dotenv\n",
            "  Downloading python_dotenv-1.1.0-py3-none-any.whl.metadata (24 kB)\n",
            "Downloading python_dotenv-1.1.0-py3-none-any.whl (20 kB)\n",
            "Installing collected packages: python-dotenv\n",
            "Successfully installed python-dotenv-1.1.0\n"
          ]
        }
      ]
    },
    {
      "cell_type": "code",
      "execution_count": 2,
      "id": "7fbbdf5b-4d7f-4496-8f40-9d15ea46d023",
      "metadata": {
        "id": "7fbbdf5b-4d7f-4496-8f40-9d15ea46d023"
      },
      "outputs": [],
      "source": [
        "from openai import OpenAI\n",
        "import os\n",
        "from dotenv import load_dotenv, find_dotenv\n",
        "_ = load_dotenv(find_dotenv())\n",
        "\n",
        "OPENAI_API_KEY  = os.getenv('OPENAI_API_KEY')"
      ]
    },
    {
      "cell_type": "code",
      "execution_count": 5,
      "id": "e480bbfb-9a80-4ea6-b792-067e63ae3148",
      "metadata": {
        "id": "e480bbfb-9a80-4ea6-b792-067e63ae3148"
      },
      "outputs": [],
      "source": [
        "#Functio to call the model.\n",
        "def return_OAI(user_message):\n",
        "    client = OpenAI(\n",
        "    # This is the default and can be omitted\n",
        "    api_key=OPENAI_API_KEY,\n",
        ")\n",
        "    context = []\n",
        "    context.append({'role':'system', \"content\": user_message})\n",
        "\n",
        "    response = client.chat.completions.create(\n",
        "            model=\"gpt-3.5-turbo\",\n",
        "            messages=context,\n",
        "            temperature=0,\n",
        "        )\n",
        "\n",
        "    return (response.choices[0].message.content)"
      ]
    },
    {
      "cell_type": "code",
      "execution_count": 6,
      "id": "6d5d2bdc-d822-4ed8-815e-b3f223730f15",
      "metadata": {
        "id": "6d5d2bdc-d822-4ed8-815e-b3f223730f15",
        "outputId": "60e50924-2b34-4342-b367-f4578d25fa11",
        "colab": {
          "base_uri": "https://localhost:8080/"
        }
      },
      "outputs": [
        {
          "output_type": "stream",
          "name": "stdout",
          "text": [
            "       table                                         definition\n",
            "0  employees  Employee information, name, position, departme...\n",
            "1     salary  Salary details for each year, including base, ...\n",
            "2    studies  Educational studies, name of the institution, ...\n"
          ]
        }
      ],
      "source": [
        "import pandas as pd\n",
        "\n",
        "# Define the tables and their descriptions\n",
        "data = {\n",
        "    'table': ['employees', 'salary', 'studies'],\n",
        "    'definition': [\n",
        "        'Employee information, name, position, department, and start date.',\n",
        "        'Salary details for each year, including base, bonus, and adjustments.',\n",
        "        'Educational studies, name of the institution, degree, and graduation year.'\n",
        "    ]\n",
        "}\n",
        "\n",
        "df = pd.DataFrame(data)\n",
        "print(df)"
      ]
    },
    {
      "cell_type": "code",
      "execution_count": 7,
      "id": "009e681c-d95d-4c9c-b044-5bfd76e3ad95",
      "metadata": {
        "id": "009e681c-d95d-4c9c-b044-5bfd76e3ad95"
      },
      "outputs": [],
      "source": [
        "text_tables = '\\n'.join([f\"{row['table']}: {row['definition']}\" for index, row in df.iterrows()])"
      ]
    },
    {
      "cell_type": "code",
      "execution_count": 8,
      "id": "fe03ac25-8d02-4cd1-99a1-be4220c6fd2d",
      "metadata": {
        "id": "fe03ac25-8d02-4cd1-99a1-be4220c6fd2d",
        "outputId": "cf930f33-518e-40dd-c059-d90ee2a723a1",
        "colab": {
          "base_uri": "https://localhost:8080/"
        }
      },
      "outputs": [
        {
          "output_type": "stream",
          "name": "stdout",
          "text": [
            "employees: Employee information, name, position, department, and start date.\n",
            "salary: Salary details for each year, including base, bonus, and adjustments.\n",
            "studies: Educational studies, name of the institution, degree, and graduation year.\n"
          ]
        }
      ],
      "source": [
        "print(text_tables)"
      ]
    },
    {
      "cell_type": "code",
      "execution_count": 9,
      "id": "c7e275ae-f20d-4134-b9b6-d8677dfb544c",
      "metadata": {
        "id": "c7e275ae-f20d-4134-b9b6-d8677dfb544c"
      },
      "outputs": [],
      "source": [
        "prompt_question_tables = \"\"\"\n",
        "Given the following tables and their content definitions,\n",
        "###Tables\n",
        "{tables}\n",
        "\n",
        "Tell me which tables would be necessary to query with SQL to address the user's question below.\n",
        "Return the table names in a json format.\n",
        "###User Questyion:\n",
        "{question}\n",
        "\"\"\"\n"
      ]
    },
    {
      "cell_type": "code",
      "execution_count": 11,
      "id": "b1cb5957-2df2-4e5e-9e6a-ace955c9817e",
      "metadata": {
        "id": "b1cb5957-2df2-4e5e-9e6a-ace955c9817e"
      },
      "outputs": [],
      "source": [
        "pqt1 = prompt_question_tables.format(tables=text_tables, question= \"Which employees have a master's degree and started after 2015?\")#ENTER YOUR QUERY HERE)\n"
      ]
    },
    {
      "cell_type": "code",
      "execution_count": 12,
      "id": "10d30f2b-6c23-4fd6-8038-840fba784cce",
      "metadata": {
        "id": "10d30f2b-6c23-4fd6-8038-840fba784cce",
        "outputId": "9641fc71-04cc-4759-96f7-070ac6a55f91",
        "scrolled": true,
        "colab": {
          "base_uri": "https://localhost:8080/"
        }
      },
      "outputs": [
        {
          "output_type": "stream",
          "name": "stdout",
          "text": [
            "{\n",
            "    \"tables\": [\"employees\", \"studies\"]\n",
            "}\n"
          ]
        }
      ],
      "source": [
        "print(return_OAI(pqt1))"
      ]
    },
    {
      "cell_type": "code",
      "source": [
        "prompt_question_tables = \"\"\"\n",
        "Given the following tables and their full definitions:\n",
        "\n",
        "### Tables\n",
        "{tables}\n",
        "\n",
        "From the user's question below, identify which tables are needed to write the SQL query.\n",
        "\n",
        "Return your answer as a JSON object like this:\n",
        "{{\n",
        "    \"tables\": {{\n",
        "        \"table_name\": \"short description or label from the full definition\"\n",
        "    }}\n",
        "}}\n",
        "\n",
        "Only include relevant tables and use a short title based on each table's description.\n",
        "\n",
        "### User Question:\n",
        "{question}\n",
        "\"\"\""
      ],
      "metadata": {
        "id": "_p1idPHs1GSH"
      },
      "id": "_p1idPHs1GSH",
      "execution_count": 14,
      "outputs": []
    },
    {
      "cell_type": "code",
      "execution_count": 16,
      "id": "57e07083-be8f-4cd0-95bd-c4b909422c6b",
      "metadata": {
        "id": "57e07083-be8f-4cd0-95bd-c4b909422c6b"
      },
      "outputs": [],
      "source": [
        "pqt3 = prompt_question_tables.format(tables=text_tables,\n",
        "                                     question=\"Find employees who earned a bonus in 2022 and also have a postgraduate degree.\")#ENTER YOUR QUERY HERE)"
      ]
    },
    {
      "cell_type": "code",
      "execution_count": 17,
      "id": "a0eeb79e-caf1-4f48-9897-168d95d2ae37",
      "metadata": {
        "id": "a0eeb79e-caf1-4f48-9897-168d95d2ae37",
        "outputId": "a9ca2c35-b4a4-4c60-81e0-0eaae34ceba3",
        "colab": {
          "base_uri": "https://localhost:8080/"
        }
      },
      "outputs": [
        {
          "output_type": "stream",
          "name": "stdout",
          "text": [
            "{\n",
            "    \"tables\": {\n",
            "        \"employees\": \"Employee information\",\n",
            "        \"salary\": \"Salary details for each year\",\n",
            "        \"studies\": \"Educational studies\"\n",
            "    }\n",
            "}\n"
          ]
        }
      ],
      "source": [
        "print(return_OAI(pqt3))"
      ]
    },
    {
      "cell_type": "markdown",
      "id": "321bb9a2-4937-4e9a-a31b-7049cb8f5aa3",
      "metadata": {
        "id": "321bb9a2-4937-4e9a-a31b-7049cb8f5aa3"
      },
      "source": [
        "# Exercise\n",
        " - Complete the prompts similar to what we did in class.\n",
        "     - Try a few versions if you have time\n",
        "     - Be creative\n",
        " - Write a one page report summarizing your findings.\n",
        "     - Were there variations that didn't work well? i.e., where GPT either hallucinated or wrong\n",
        " - What did you learn?"
      ]
    },
    {
      "cell_type": "code",
      "source": [
        "prompt_question_tables = \"\"\"\n",
        "Given the following tables and their full definitions:\n",
        "\n",
        "### Tables\n",
        "{tables}\n",
        "\n",
        "From the user's question below, identify which tables are needed to write the SQL query.\n",
        "\n",
        "Return your answer as a JSON object like this:\n",
        "{{\n",
        "    \"tables\": {{\n",
        "        \"table_name\": \"short description or label from the full definition\"\n",
        "    }}\n",
        "}}\n",
        "\n",
        "Only include relevant tables and use a short title based on each table's description.\n",
        "\n",
        "### User Question:\n",
        "{question}\n",
        "\"\"\"\n",
        "\n",
        "# Prompt A\n",
        "pqt4 = prompt_question_tables.format(\n",
        "    tables=text_tables,\n",
        "    question=\"Which employees have worked in more than one department since joining the company?\"\n",
        ")\n",
        "print(return_OAI(pqt4))\n",
        "\n",
        "# Prompt B\n",
        "pqt5 = prompt_question_tables.format(\n",
        "    tables=text_tables,\n",
        "    question=\"List employees who started working the same year they graduated.\"\n",
        ")\n",
        "print(return_OAI(pqt5))\n",
        "\n",
        "# Prompt C\n",
        "pqt6 = prompt_question_tables.format(\n",
        "    tables=text_tables,\n",
        "    question=\"Which employees hold only a bachelor's degree and have never received a salary increase?\"\n",
        ")\n",
        "print(return_OAI(pqt6))\n",
        "\n",
        "# Prompt D\n",
        "pqt7 = prompt_question_tables.format(\n",
        "    tables=text_tables,\n",
        "    question=\"What are the most common academic degrees among employees who received bonuses?\"\n",
        ")\n",
        "print(return_OAI(pqt7))\n",
        "\n",
        "# Prompt E\n",
        "pqt8 = prompt_question_tables.format(\n",
        "    tables=text_tables,\n",
        "    question=\"How many employees hold more than one academic degree and currently work in the HR department?\"\n",
        ")\n",
        "print(return_OAI(pqt8))\n"
      ],
      "metadata": {
        "colab": {
          "base_uri": "https://localhost:8080/"
        },
        "id": "_J1Nv15k1RYw",
        "outputId": "b066eaa3-237d-43d0-a51f-f5bf17a0308e"
      },
      "id": "_J1Nv15k1RYw",
      "execution_count": 19,
      "outputs": [
        {
          "output_type": "stream",
          "name": "stdout",
          "text": [
            "{\n",
            "    \"tables\": {\n",
            "        \"employees\": \"Employee information\",\n",
            "    }\n",
            "}\n",
            "{\n",
            "    \"tables\": {\n",
            "        \"employees\": \"Employee information\",\n",
            "        \"studies\": \"Educational studies\"\n",
            "    }\n",
            "}\n",
            "{\n",
            "    \"tables\": {\n",
            "        \"employees\": \"Employee information\",\n",
            "        \"salary\": \"Salary details\"\n",
            "    }\n",
            "}\n",
            "{\n",
            "    \"tables\": {\n",
            "        \"employees\": \"Employee information\",\n",
            "        \"studies\": \"Educational studies\"\n",
            "    }\n",
            "}\n",
            "{\n",
            "    \"tables\": {\n",
            "        \"employees\": \"Employee information\",\n",
            "        \"studies\": \"Educational studies\"\n",
            "    }\n",
            "}\n"
          ]
        }
      ]
    },
    {
      "cell_type": "markdown",
      "source": [
        "Objective:\n",
        "\n",
        "We tested whether GPT-3.5 Turbo could identify the correct SQL tables needed to answer a user question, based only on table names and short definitions.\n",
        "\n",
        "Findings:\n",
        "\n",
        "In most cases, GPT performed well and selected the appropriate tables accurately. For example, when asked about employees who received bonuses and had degrees, it correctly chose the salary and studies tables. It also gave reasonable short labels for each selected table, which matched the table definitions.\n",
        "\n",
        "Weak Variations:\n",
        "\n",
        "Some variations were less reliable:\n",
        "\n",
        "Questions that involved indirect logic (e.g., \"worked in more than one department\") sometimes caused GPT to guess and include irrelevant tables like salary.\n",
        "\n",
        "Abstract or vague questions, especially ones combining multiple timelines (e.g., graduation vs. hiring), sometimes resulted in incomplete or inconsistent table selection.\n",
        "\n",
        "In rare cases, GPT hallucinated fields that weren't mentioned in any table description.\n",
        "\n",
        "What I Learned:\n",
        "\n",
        "-Clear, specific questions lead to better results.\n",
        "\n",
        "-GPT struggles with vague or overly complex conditions unless the table descriptions are detailed.\n",
        "\n",
        "-It's important to test multiple prompt phrasings to find the most effective structure."
      ],
      "metadata": {
        "id": "zcNaGq6e1eXm"
      },
      "id": "zcNaGq6e1eXm"
    }
  ],
  "metadata": {
    "colab": {
      "provenance": []
    },
    "kernelspec": {
      "display_name": "Python 3 (ipykernel)",
      "language": "python",
      "name": "python3"
    },
    "language_info": {
      "codemirror_mode": {
        "name": "ipython",
        "version": 3
      },
      "file_extension": ".py",
      "mimetype": "text/x-python",
      "name": "python",
      "nbconvert_exporter": "python",
      "pygments_lexer": "ipython3",
      "version": "3.11.8"
    }
  },
  "nbformat": 4,
  "nbformat_minor": 5
}